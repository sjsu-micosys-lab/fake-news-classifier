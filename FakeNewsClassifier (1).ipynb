{
  "nbformat": 4,
  "nbformat_minor": 0,
  "metadata": {
    "colab": {
      "provenance": [],
      "gpuType": "T4",
      "machine_shape": "hm"
    },
    "kernelspec": {
      "name": "python3",
      "display_name": "Python 3"
    },
    "language_info": {
      "name": "python"
    },
    "accelerator": "GPU",
    "widgets": {
      "application/vnd.jupyter.widget-state+json": {
        "9d29426e639c4158bca9996c436f653a": {
          "model_module": "@jupyter-widgets/controls",
          "model_name": "HBoxModel",
          "model_module_version": "1.5.0",
          "state": {
            "_dom_classes": [],
            "_model_module": "@jupyter-widgets/controls",
            "_model_module_version": "1.5.0",
            "_model_name": "HBoxModel",
            "_view_count": null,
            "_view_module": "@jupyter-widgets/controls",
            "_view_module_version": "1.5.0",
            "_view_name": "HBoxView",
            "box_style": "",
            "children": [
              "IPY_MODEL_0cfc929ec512479a917a5d038ba2babf",
              "IPY_MODEL_307434e440f741ad86b898ef6c688c58",
              "IPY_MODEL_f182d63e6a0f41809e642e5c61f01701"
            ],
            "layout": "IPY_MODEL_66f9c01789874b6e84e9b591333d4af8"
          }
        },
        "0cfc929ec512479a917a5d038ba2babf": {
          "model_module": "@jupyter-widgets/controls",
          "model_name": "HTMLModel",
          "model_module_version": "1.5.0",
          "state": {
            "_dom_classes": [],
            "_model_module": "@jupyter-widgets/controls",
            "_model_module_version": "1.5.0",
            "_model_name": "HTMLModel",
            "_view_count": null,
            "_view_module": "@jupyter-widgets/controls",
            "_view_module_version": "1.5.0",
            "_view_name": "HTMLView",
            "description": "",
            "description_tooltip": null,
            "layout": "IPY_MODEL_72c884b92f2b4ff9a914be5c9c8b8a75",
            "placeholder": "​",
            "style": "IPY_MODEL_878a442becda48abb8fd0e8bb125f201",
            "value": " 20%"
          }
        },
        "307434e440f741ad86b898ef6c688c58": {
          "model_module": "@jupyter-widgets/controls",
          "model_name": "FloatProgressModel",
          "model_module_version": "1.5.0",
          "state": {
            "_dom_classes": [],
            "_model_module": "@jupyter-widgets/controls",
            "_model_module_version": "1.5.0",
            "_model_name": "FloatProgressModel",
            "_view_count": null,
            "_view_module": "@jupyter-widgets/controls",
            "_view_module_version": "1.5.0",
            "_view_name": "ProgressView",
            "bar_style": "",
            "description": "",
            "description_tooltip": null,
            "layout": "IPY_MODEL_5571a88f88dd431999a490575ea467c5",
            "max": 5,
            "min": 0,
            "orientation": "horizontal",
            "style": "IPY_MODEL_cb0966cb6aa74f6182f706dbfe8d835c",
            "value": 1
          }
        },
        "f182d63e6a0f41809e642e5c61f01701": {
          "model_module": "@jupyter-widgets/controls",
          "model_name": "HTMLModel",
          "model_module_version": "1.5.0",
          "state": {
            "_dom_classes": [],
            "_model_module": "@jupyter-widgets/controls",
            "_model_module_version": "1.5.0",
            "_model_name": "HTMLModel",
            "_view_count": null,
            "_view_module": "@jupyter-widgets/controls",
            "_view_module_version": "1.5.0",
            "_view_name": "HTMLView",
            "description": "",
            "description_tooltip": null,
            "layout": "IPY_MODEL_44c698e8541949749ceec1d17346b90d",
            "placeholder": "​",
            "style": "IPY_MODEL_88d95ec78a1c483387964b72f3a46b9f",
            "value": " 1/5 [31:08&lt;2:04:33, 1868.43s/it]"
          }
        },
        "66f9c01789874b6e84e9b591333d4af8": {
          "model_module": "@jupyter-widgets/base",
          "model_name": "LayoutModel",
          "model_module_version": "1.2.0",
          "state": {
            "_model_module": "@jupyter-widgets/base",
            "_model_module_version": "1.2.0",
            "_model_name": "LayoutModel",
            "_view_count": null,
            "_view_module": "@jupyter-widgets/base",
            "_view_module_version": "1.2.0",
            "_view_name": "LayoutView",
            "align_content": null,
            "align_items": null,
            "align_self": null,
            "border": null,
            "bottom": null,
            "display": null,
            "flex": null,
            "flex_flow": null,
            "grid_area": null,
            "grid_auto_columns": null,
            "grid_auto_flow": null,
            "grid_auto_rows": null,
            "grid_column": null,
            "grid_gap": null,
            "grid_row": null,
            "grid_template_areas": null,
            "grid_template_columns": null,
            "grid_template_rows": null,
            "height": null,
            "justify_content": null,
            "justify_items": null,
            "left": null,
            "margin": null,
            "max_height": null,
            "max_width": null,
            "min_height": null,
            "min_width": null,
            "object_fit": null,
            "object_position": null,
            "order": null,
            "overflow": null,
            "overflow_x": null,
            "overflow_y": null,
            "padding": null,
            "right": null,
            "top": null,
            "visibility": null,
            "width": null
          }
        },
        "72c884b92f2b4ff9a914be5c9c8b8a75": {
          "model_module": "@jupyter-widgets/base",
          "model_name": "LayoutModel",
          "model_module_version": "1.2.0",
          "state": {
            "_model_module": "@jupyter-widgets/base",
            "_model_module_version": "1.2.0",
            "_model_name": "LayoutModel",
            "_view_count": null,
            "_view_module": "@jupyter-widgets/base",
            "_view_module_version": "1.2.0",
            "_view_name": "LayoutView",
            "align_content": null,
            "align_items": null,
            "align_self": null,
            "border": null,
            "bottom": null,
            "display": null,
            "flex": null,
            "flex_flow": null,
            "grid_area": null,
            "grid_auto_columns": null,
            "grid_auto_flow": null,
            "grid_auto_rows": null,
            "grid_column": null,
            "grid_gap": null,
            "grid_row": null,
            "grid_template_areas": null,
            "grid_template_columns": null,
            "grid_template_rows": null,
            "height": null,
            "justify_content": null,
            "justify_items": null,
            "left": null,
            "margin": null,
            "max_height": null,
            "max_width": null,
            "min_height": null,
            "min_width": null,
            "object_fit": null,
            "object_position": null,
            "order": null,
            "overflow": null,
            "overflow_x": null,
            "overflow_y": null,
            "padding": null,
            "right": null,
            "top": null,
            "visibility": null,
            "width": null
          }
        },
        "878a442becda48abb8fd0e8bb125f201": {
          "model_module": "@jupyter-widgets/controls",
          "model_name": "DescriptionStyleModel",
          "model_module_version": "1.5.0",
          "state": {
            "_model_module": "@jupyter-widgets/controls",
            "_model_module_version": "1.5.0",
            "_model_name": "DescriptionStyleModel",
            "_view_count": null,
            "_view_module": "@jupyter-widgets/base",
            "_view_module_version": "1.2.0",
            "_view_name": "StyleView",
            "description_width": ""
          }
        },
        "5571a88f88dd431999a490575ea467c5": {
          "model_module": "@jupyter-widgets/base",
          "model_name": "LayoutModel",
          "model_module_version": "1.2.0",
          "state": {
            "_model_module": "@jupyter-widgets/base",
            "_model_module_version": "1.2.0",
            "_model_name": "LayoutModel",
            "_view_count": null,
            "_view_module": "@jupyter-widgets/base",
            "_view_module_version": "1.2.0",
            "_view_name": "LayoutView",
            "align_content": null,
            "align_items": null,
            "align_self": null,
            "border": null,
            "bottom": null,
            "display": null,
            "flex": null,
            "flex_flow": null,
            "grid_area": null,
            "grid_auto_columns": null,
            "grid_auto_flow": null,
            "grid_auto_rows": null,
            "grid_column": null,
            "grid_gap": null,
            "grid_row": null,
            "grid_template_areas": null,
            "grid_template_columns": null,
            "grid_template_rows": null,
            "height": null,
            "justify_content": null,
            "justify_items": null,
            "left": null,
            "margin": null,
            "max_height": null,
            "max_width": null,
            "min_height": null,
            "min_width": null,
            "object_fit": null,
            "object_position": null,
            "order": null,
            "overflow": null,
            "overflow_x": null,
            "overflow_y": null,
            "padding": null,
            "right": null,
            "top": null,
            "visibility": null,
            "width": null
          }
        },
        "cb0966cb6aa74f6182f706dbfe8d835c": {
          "model_module": "@jupyter-widgets/controls",
          "model_name": "ProgressStyleModel",
          "model_module_version": "1.5.0",
          "state": {
            "_model_module": "@jupyter-widgets/controls",
            "_model_module_version": "1.5.0",
            "_model_name": "ProgressStyleModel",
            "_view_count": null,
            "_view_module": "@jupyter-widgets/base",
            "_view_module_version": "1.2.0",
            "_view_name": "StyleView",
            "bar_color": null,
            "description_width": ""
          }
        },
        "44c698e8541949749ceec1d17346b90d": {
          "model_module": "@jupyter-widgets/base",
          "model_name": "LayoutModel",
          "model_module_version": "1.2.0",
          "state": {
            "_model_module": "@jupyter-widgets/base",
            "_model_module_version": "1.2.0",
            "_model_name": "LayoutModel",
            "_view_count": null,
            "_view_module": "@jupyter-widgets/base",
            "_view_module_version": "1.2.0",
            "_view_name": "LayoutView",
            "align_content": null,
            "align_items": null,
            "align_self": null,
            "border": null,
            "bottom": null,
            "display": null,
            "flex": null,
            "flex_flow": null,
            "grid_area": null,
            "grid_auto_columns": null,
            "grid_auto_flow": null,
            "grid_auto_rows": null,
            "grid_column": null,
            "grid_gap": null,
            "grid_row": null,
            "grid_template_areas": null,
            "grid_template_columns": null,
            "grid_template_rows": null,
            "height": null,
            "justify_content": null,
            "justify_items": null,
            "left": null,
            "margin": null,
            "max_height": null,
            "max_width": null,
            "min_height": null,
            "min_width": null,
            "object_fit": null,
            "object_position": null,
            "order": null,
            "overflow": null,
            "overflow_x": null,
            "overflow_y": null,
            "padding": null,
            "right": null,
            "top": null,
            "visibility": null,
            "width": null
          }
        },
        "88d95ec78a1c483387964b72f3a46b9f": {
          "model_module": "@jupyter-widgets/controls",
          "model_name": "DescriptionStyleModel",
          "model_module_version": "1.5.0",
          "state": {
            "_model_module": "@jupyter-widgets/controls",
            "_model_module_version": "1.5.0",
            "_model_name": "DescriptionStyleModel",
            "_view_count": null,
            "_view_module": "@jupyter-widgets/base",
            "_view_module_version": "1.2.0",
            "_view_name": "StyleView",
            "description_width": ""
          }
        },
        "29b2d95c998f486c817e010ed1f0c72f": {
          "model_module": "@jupyter-widgets/controls",
          "model_name": "HBoxModel",
          "model_module_version": "1.5.0",
          "state": {
            "_dom_classes": [],
            "_model_module": "@jupyter-widgets/controls",
            "_model_module_version": "1.5.0",
            "_model_name": "HBoxModel",
            "_view_count": null,
            "_view_module": "@jupyter-widgets/controls",
            "_view_module_version": "1.5.0",
            "_view_name": "HBoxView",
            "box_style": "",
            "children": [
              "IPY_MODEL_e16f7691def04a0e899c824a0a94dfce",
              "IPY_MODEL_29adab3179314b8f966b9a0ecf076b6a",
              "IPY_MODEL_b364761f8caa483ca1e7826f765c048b"
            ],
            "layout": "IPY_MODEL_9383ea02bbd24f33bbe76cf4ec4654aa"
          }
        },
        "e16f7691def04a0e899c824a0a94dfce": {
          "model_module": "@jupyter-widgets/controls",
          "model_name": "HTMLModel",
          "model_module_version": "1.5.0",
          "state": {
            "_dom_classes": [],
            "_model_module": "@jupyter-widgets/controls",
            "_model_module_version": "1.5.0",
            "_model_name": "HTMLModel",
            "_view_count": null,
            "_view_module": "@jupyter-widgets/controls",
            "_view_module_version": "1.5.0",
            "_view_name": "HTMLView",
            "description": "",
            "description_tooltip": null,
            "layout": "IPY_MODEL_f0656066564a439b91caed9af0436b9b",
            "placeholder": "​",
            "style": "IPY_MODEL_0ebe557fdf53413abc7bb1a69a684752",
            "value": "Epoch 1: 100%"
          }
        },
        "29adab3179314b8f966b9a0ecf076b6a": {
          "model_module": "@jupyter-widgets/controls",
          "model_name": "FloatProgressModel",
          "model_module_version": "1.5.0",
          "state": {
            "_dom_classes": [],
            "_model_module": "@jupyter-widgets/controls",
            "_model_module_version": "1.5.0",
            "_model_name": "FloatProgressModel",
            "_view_count": null,
            "_view_module": "@jupyter-widgets/controls",
            "_view_module_version": "1.5.0",
            "_view_name": "ProgressView",
            "bar_style": "",
            "description": "",
            "description_tooltip": null,
            "layout": "IPY_MODEL_404cc7538a554b62b1ce4f018cc73828",
            "max": 11235,
            "min": 0,
            "orientation": "horizontal",
            "style": "IPY_MODEL_25a8e96216b74063ba514c3d23eb7291",
            "value": 11235
          }
        },
        "b364761f8caa483ca1e7826f765c048b": {
          "model_module": "@jupyter-widgets/controls",
          "model_name": "HTMLModel",
          "model_module_version": "1.5.0",
          "state": {
            "_dom_classes": [],
            "_model_module": "@jupyter-widgets/controls",
            "_model_module_version": "1.5.0",
            "_model_name": "HTMLModel",
            "_view_count": null,
            "_view_module": "@jupyter-widgets/controls",
            "_view_module_version": "1.5.0",
            "_view_name": "HTMLView",
            "description": "",
            "description_tooltip": null,
            "layout": "IPY_MODEL_6dfb5db36387442098029c036a1cf3b0",
            "placeholder": "​",
            "style": "IPY_MODEL_23bdb1b5cebd4d71a1423f3bada2546d",
            "value": " 11235/11235 [30:09&lt;00:00,  6.99it/s, training_loss=0.000]"
          }
        },
        "9383ea02bbd24f33bbe76cf4ec4654aa": {
          "model_module": "@jupyter-widgets/base",
          "model_name": "LayoutModel",
          "model_module_version": "1.2.0",
          "state": {
            "_model_module": "@jupyter-widgets/base",
            "_model_module_version": "1.2.0",
            "_model_name": "LayoutModel",
            "_view_count": null,
            "_view_module": "@jupyter-widgets/base",
            "_view_module_version": "1.2.0",
            "_view_name": "LayoutView",
            "align_content": null,
            "align_items": null,
            "align_self": null,
            "border": null,
            "bottom": null,
            "display": null,
            "flex": null,
            "flex_flow": null,
            "grid_area": null,
            "grid_auto_columns": null,
            "grid_auto_flow": null,
            "grid_auto_rows": null,
            "grid_column": null,
            "grid_gap": null,
            "grid_row": null,
            "grid_template_areas": null,
            "grid_template_columns": null,
            "grid_template_rows": null,
            "height": null,
            "justify_content": null,
            "justify_items": null,
            "left": null,
            "margin": null,
            "max_height": null,
            "max_width": null,
            "min_height": null,
            "min_width": null,
            "object_fit": null,
            "object_position": null,
            "order": null,
            "overflow": null,
            "overflow_x": null,
            "overflow_y": null,
            "padding": null,
            "right": null,
            "top": null,
            "visibility": "hidden",
            "width": null
          }
        },
        "f0656066564a439b91caed9af0436b9b": {
          "model_module": "@jupyter-widgets/base",
          "model_name": "LayoutModel",
          "model_module_version": "1.2.0",
          "state": {
            "_model_module": "@jupyter-widgets/base",
            "_model_module_version": "1.2.0",
            "_model_name": "LayoutModel",
            "_view_count": null,
            "_view_module": "@jupyter-widgets/base",
            "_view_module_version": "1.2.0",
            "_view_name": "LayoutView",
            "align_content": null,
            "align_items": null,
            "align_self": null,
            "border": null,
            "bottom": null,
            "display": null,
            "flex": null,
            "flex_flow": null,
            "grid_area": null,
            "grid_auto_columns": null,
            "grid_auto_flow": null,
            "grid_auto_rows": null,
            "grid_column": null,
            "grid_gap": null,
            "grid_row": null,
            "grid_template_areas": null,
            "grid_template_columns": null,
            "grid_template_rows": null,
            "height": null,
            "justify_content": null,
            "justify_items": null,
            "left": null,
            "margin": null,
            "max_height": null,
            "max_width": null,
            "min_height": null,
            "min_width": null,
            "object_fit": null,
            "object_position": null,
            "order": null,
            "overflow": null,
            "overflow_x": null,
            "overflow_y": null,
            "padding": null,
            "right": null,
            "top": null,
            "visibility": null,
            "width": null
          }
        },
        "0ebe557fdf53413abc7bb1a69a684752": {
          "model_module": "@jupyter-widgets/controls",
          "model_name": "DescriptionStyleModel",
          "model_module_version": "1.5.0",
          "state": {
            "_model_module": "@jupyter-widgets/controls",
            "_model_module_version": "1.5.0",
            "_model_name": "DescriptionStyleModel",
            "_view_count": null,
            "_view_module": "@jupyter-widgets/base",
            "_view_module_version": "1.2.0",
            "_view_name": "StyleView",
            "description_width": ""
          }
        },
        "404cc7538a554b62b1ce4f018cc73828": {
          "model_module": "@jupyter-widgets/base",
          "model_name": "LayoutModel",
          "model_module_version": "1.2.0",
          "state": {
            "_model_module": "@jupyter-widgets/base",
            "_model_module_version": "1.2.0",
            "_model_name": "LayoutModel",
            "_view_count": null,
            "_view_module": "@jupyter-widgets/base",
            "_view_module_version": "1.2.0",
            "_view_name": "LayoutView",
            "align_content": null,
            "align_items": null,
            "align_self": null,
            "border": null,
            "bottom": null,
            "display": null,
            "flex": null,
            "flex_flow": null,
            "grid_area": null,
            "grid_auto_columns": null,
            "grid_auto_flow": null,
            "grid_auto_rows": null,
            "grid_column": null,
            "grid_gap": null,
            "grid_row": null,
            "grid_template_areas": null,
            "grid_template_columns": null,
            "grid_template_rows": null,
            "height": null,
            "justify_content": null,
            "justify_items": null,
            "left": null,
            "margin": null,
            "max_height": null,
            "max_width": null,
            "min_height": null,
            "min_width": null,
            "object_fit": null,
            "object_position": null,
            "order": null,
            "overflow": null,
            "overflow_x": null,
            "overflow_y": null,
            "padding": null,
            "right": null,
            "top": null,
            "visibility": null,
            "width": null
          }
        },
        "25a8e96216b74063ba514c3d23eb7291": {
          "model_module": "@jupyter-widgets/controls",
          "model_name": "ProgressStyleModel",
          "model_module_version": "1.5.0",
          "state": {
            "_model_module": "@jupyter-widgets/controls",
            "_model_module_version": "1.5.0",
            "_model_name": "ProgressStyleModel",
            "_view_count": null,
            "_view_module": "@jupyter-widgets/base",
            "_view_module_version": "1.2.0",
            "_view_name": "StyleView",
            "bar_color": null,
            "description_width": ""
          }
        },
        "6dfb5db36387442098029c036a1cf3b0": {
          "model_module": "@jupyter-widgets/base",
          "model_name": "LayoutModel",
          "model_module_version": "1.2.0",
          "state": {
            "_model_module": "@jupyter-widgets/base",
            "_model_module_version": "1.2.0",
            "_model_name": "LayoutModel",
            "_view_count": null,
            "_view_module": "@jupyter-widgets/base",
            "_view_module_version": "1.2.0",
            "_view_name": "LayoutView",
            "align_content": null,
            "align_items": null,
            "align_self": null,
            "border": null,
            "bottom": null,
            "display": null,
            "flex": null,
            "flex_flow": null,
            "grid_area": null,
            "grid_auto_columns": null,
            "grid_auto_flow": null,
            "grid_auto_rows": null,
            "grid_column": null,
            "grid_gap": null,
            "grid_row": null,
            "grid_template_areas": null,
            "grid_template_columns": null,
            "grid_template_rows": null,
            "height": null,
            "justify_content": null,
            "justify_items": null,
            "left": null,
            "margin": null,
            "max_height": null,
            "max_width": null,
            "min_height": null,
            "min_width": null,
            "object_fit": null,
            "object_position": null,
            "order": null,
            "overflow": null,
            "overflow_x": null,
            "overflow_y": null,
            "padding": null,
            "right": null,
            "top": null,
            "visibility": null,
            "width": null
          }
        },
        "23bdb1b5cebd4d71a1423f3bada2546d": {
          "model_module": "@jupyter-widgets/controls",
          "model_name": "DescriptionStyleModel",
          "model_module_version": "1.5.0",
          "state": {
            "_model_module": "@jupyter-widgets/controls",
            "_model_module_version": "1.5.0",
            "_model_name": "DescriptionStyleModel",
            "_view_count": null,
            "_view_module": "@jupyter-widgets/base",
            "_view_module_version": "1.2.0",
            "_view_name": "StyleView",
            "description_width": ""
          }
        },
        "796a80b248f94146a0dc580cc3aeceec": {
          "model_module": "@jupyter-widgets/controls",
          "model_name": "HBoxModel",
          "model_module_version": "1.5.0",
          "state": {
            "_dom_classes": [],
            "_model_module": "@jupyter-widgets/controls",
            "_model_module_version": "1.5.0",
            "_model_name": "HBoxModel",
            "_view_count": null,
            "_view_module": "@jupyter-widgets/controls",
            "_view_module_version": "1.5.0",
            "_view_name": "HBoxView",
            "box_style": "",
            "children": [
              "IPY_MODEL_5ca7f7aad8ed4b1fb86e961168433700",
              "IPY_MODEL_bcf4442efe6b4ebcb0c4abafeb4d8b36",
              "IPY_MODEL_8fd39af2572c4b60846a946d2742b1e3"
            ],
            "layout": "IPY_MODEL_4d3cee24219e4e58a5c456fe0322e7de"
          }
        },
        "5ca7f7aad8ed4b1fb86e961168433700": {
          "model_module": "@jupyter-widgets/controls",
          "model_name": "HTMLModel",
          "model_module_version": "1.5.0",
          "state": {
            "_dom_classes": [],
            "_model_module": "@jupyter-widgets/controls",
            "_model_module_version": "1.5.0",
            "_model_name": "HTMLModel",
            "_view_count": null,
            "_view_module": "@jupyter-widgets/controls",
            "_view_module_version": "1.5.0",
            "_view_name": "HTMLView",
            "description": "",
            "description_tooltip": null,
            "layout": "IPY_MODEL_75909c6a49aa4b28b82c92230061476c",
            "placeholder": "​",
            "style": "IPY_MODEL_a74c8b73d0f1400b877a897e50663ba5",
            "value": "Epoch 2:   1%"
          }
        },
        "bcf4442efe6b4ebcb0c4abafeb4d8b36": {
          "model_module": "@jupyter-widgets/controls",
          "model_name": "FloatProgressModel",
          "model_module_version": "1.5.0",
          "state": {
            "_dom_classes": [],
            "_model_module": "@jupyter-widgets/controls",
            "_model_module_version": "1.5.0",
            "_model_name": "FloatProgressModel",
            "_view_count": null,
            "_view_module": "@jupyter-widgets/controls",
            "_view_module_version": "1.5.0",
            "_view_name": "ProgressView",
            "bar_style": "",
            "description": "",
            "description_tooltip": null,
            "layout": "IPY_MODEL_22545b183d84490aa8c34b17b9f9cbe9",
            "max": 11235,
            "min": 0,
            "orientation": "horizontal",
            "style": "IPY_MODEL_8e77c0e5e6de43179cea3bac67cc226e",
            "value": 143
          }
        },
        "8fd39af2572c4b60846a946d2742b1e3": {
          "model_module": "@jupyter-widgets/controls",
          "model_name": "HTMLModel",
          "model_module_version": "1.5.0",
          "state": {
            "_dom_classes": [],
            "_model_module": "@jupyter-widgets/controls",
            "_model_module_version": "1.5.0",
            "_model_name": "HTMLModel",
            "_view_count": null,
            "_view_module": "@jupyter-widgets/controls",
            "_view_module_version": "1.5.0",
            "_view_name": "HTMLView",
            "description": "",
            "description_tooltip": null,
            "layout": "IPY_MODEL_f7ebbaa4f1b3432593c2c9ae4532c909",
            "placeholder": "​",
            "style": "IPY_MODEL_54bc64451cd7496ead2058a6a1e495ef",
            "value": " 143/11235 [00:23&lt;29:47,  6.21it/s, training_loss=0.001]"
          }
        },
        "4d3cee24219e4e58a5c456fe0322e7de": {
          "model_module": "@jupyter-widgets/base",
          "model_name": "LayoutModel",
          "model_module_version": "1.2.0",
          "state": {
            "_model_module": "@jupyter-widgets/base",
            "_model_module_version": "1.2.0",
            "_model_name": "LayoutModel",
            "_view_count": null,
            "_view_module": "@jupyter-widgets/base",
            "_view_module_version": "1.2.0",
            "_view_name": "LayoutView",
            "align_content": null,
            "align_items": null,
            "align_self": null,
            "border": null,
            "bottom": null,
            "display": null,
            "flex": null,
            "flex_flow": null,
            "grid_area": null,
            "grid_auto_columns": null,
            "grid_auto_flow": null,
            "grid_auto_rows": null,
            "grid_column": null,
            "grid_gap": null,
            "grid_row": null,
            "grid_template_areas": null,
            "grid_template_columns": null,
            "grid_template_rows": null,
            "height": null,
            "justify_content": null,
            "justify_items": null,
            "left": null,
            "margin": null,
            "max_height": null,
            "max_width": null,
            "min_height": null,
            "min_width": null,
            "object_fit": null,
            "object_position": null,
            "order": null,
            "overflow": null,
            "overflow_x": null,
            "overflow_y": null,
            "padding": null,
            "right": null,
            "top": null,
            "visibility": null,
            "width": null
          }
        },
        "75909c6a49aa4b28b82c92230061476c": {
          "model_module": "@jupyter-widgets/base",
          "model_name": "LayoutModel",
          "model_module_version": "1.2.0",
          "state": {
            "_model_module": "@jupyter-widgets/base",
            "_model_module_version": "1.2.0",
            "_model_name": "LayoutModel",
            "_view_count": null,
            "_view_module": "@jupyter-widgets/base",
            "_view_module_version": "1.2.0",
            "_view_name": "LayoutView",
            "align_content": null,
            "align_items": null,
            "align_self": null,
            "border": null,
            "bottom": null,
            "display": null,
            "flex": null,
            "flex_flow": null,
            "grid_area": null,
            "grid_auto_columns": null,
            "grid_auto_flow": null,
            "grid_auto_rows": null,
            "grid_column": null,
            "grid_gap": null,
            "grid_row": null,
            "grid_template_areas": null,
            "grid_template_columns": null,
            "grid_template_rows": null,
            "height": null,
            "justify_content": null,
            "justify_items": null,
            "left": null,
            "margin": null,
            "max_height": null,
            "max_width": null,
            "min_height": null,
            "min_width": null,
            "object_fit": null,
            "object_position": null,
            "order": null,
            "overflow": null,
            "overflow_x": null,
            "overflow_y": null,
            "padding": null,
            "right": null,
            "top": null,
            "visibility": null,
            "width": null
          }
        },
        "a74c8b73d0f1400b877a897e50663ba5": {
          "model_module": "@jupyter-widgets/controls",
          "model_name": "DescriptionStyleModel",
          "model_module_version": "1.5.0",
          "state": {
            "_model_module": "@jupyter-widgets/controls",
            "_model_module_version": "1.5.0",
            "_model_name": "DescriptionStyleModel",
            "_view_count": null,
            "_view_module": "@jupyter-widgets/base",
            "_view_module_version": "1.2.0",
            "_view_name": "StyleView",
            "description_width": ""
          }
        },
        "22545b183d84490aa8c34b17b9f9cbe9": {
          "model_module": "@jupyter-widgets/base",
          "model_name": "LayoutModel",
          "model_module_version": "1.2.0",
          "state": {
            "_model_module": "@jupyter-widgets/base",
            "_model_module_version": "1.2.0",
            "_model_name": "LayoutModel",
            "_view_count": null,
            "_view_module": "@jupyter-widgets/base",
            "_view_module_version": "1.2.0",
            "_view_name": "LayoutView",
            "align_content": null,
            "align_items": null,
            "align_self": null,
            "border": null,
            "bottom": null,
            "display": null,
            "flex": null,
            "flex_flow": null,
            "grid_area": null,
            "grid_auto_columns": null,
            "grid_auto_flow": null,
            "grid_auto_rows": null,
            "grid_column": null,
            "grid_gap": null,
            "grid_row": null,
            "grid_template_areas": null,
            "grid_template_columns": null,
            "grid_template_rows": null,
            "height": null,
            "justify_content": null,
            "justify_items": null,
            "left": null,
            "margin": null,
            "max_height": null,
            "max_width": null,
            "min_height": null,
            "min_width": null,
            "object_fit": null,
            "object_position": null,
            "order": null,
            "overflow": null,
            "overflow_x": null,
            "overflow_y": null,
            "padding": null,
            "right": null,
            "top": null,
            "visibility": null,
            "width": null
          }
        },
        "8e77c0e5e6de43179cea3bac67cc226e": {
          "model_module": "@jupyter-widgets/controls",
          "model_name": "ProgressStyleModel",
          "model_module_version": "1.5.0",
          "state": {
            "_model_module": "@jupyter-widgets/controls",
            "_model_module_version": "1.5.0",
            "_model_name": "ProgressStyleModel",
            "_view_count": null,
            "_view_module": "@jupyter-widgets/base",
            "_view_module_version": "1.2.0",
            "_view_name": "StyleView",
            "bar_color": null,
            "description_width": ""
          }
        },
        "f7ebbaa4f1b3432593c2c9ae4532c909": {
          "model_module": "@jupyter-widgets/base",
          "model_name": "LayoutModel",
          "model_module_version": "1.2.0",
          "state": {
            "_model_module": "@jupyter-widgets/base",
            "_model_module_version": "1.2.0",
            "_model_name": "LayoutModel",
            "_view_count": null,
            "_view_module": "@jupyter-widgets/base",
            "_view_module_version": "1.2.0",
            "_view_name": "LayoutView",
            "align_content": null,
            "align_items": null,
            "align_self": null,
            "border": null,
            "bottom": null,
            "display": null,
            "flex": null,
            "flex_flow": null,
            "grid_area": null,
            "grid_auto_columns": null,
            "grid_auto_flow": null,
            "grid_auto_rows": null,
            "grid_column": null,
            "grid_gap": null,
            "grid_row": null,
            "grid_template_areas": null,
            "grid_template_columns": null,
            "grid_template_rows": null,
            "height": null,
            "justify_content": null,
            "justify_items": null,
            "left": null,
            "margin": null,
            "max_height": null,
            "max_width": null,
            "min_height": null,
            "min_width": null,
            "object_fit": null,
            "object_position": null,
            "order": null,
            "overflow": null,
            "overflow_x": null,
            "overflow_y": null,
            "padding": null,
            "right": null,
            "top": null,
            "visibility": null,
            "width": null
          }
        },
        "54bc64451cd7496ead2058a6a1e495ef": {
          "model_module": "@jupyter-widgets/controls",
          "model_name": "DescriptionStyleModel",
          "model_module_version": "1.5.0",
          "state": {
            "_model_module": "@jupyter-widgets/controls",
            "_model_module_version": "1.5.0",
            "_model_name": "DescriptionStyleModel",
            "_view_count": null,
            "_view_module": "@jupyter-widgets/base",
            "_view_module_version": "1.2.0",
            "_view_name": "StyleView",
            "description_width": ""
          }
        }
      }
    }
  },
  "cells": [
    {
      "cell_type": "markdown",
      "source": [
        "#**Phase 1**"
      ],
      "metadata": {
        "id": "E4rlIa4m9IXd"
      }
    },
    {
      "cell_type": "code",
      "execution_count": null,
      "metadata": {
        "id": "b154eW7K7ps0"
      },
      "outputs": [],
      "source": [
        "# Phase 1\n",
        "import matplotlib.pyplot as plt\n",
        "%matplotlib inline\n",
        "\n",
        "import numpy as np # linear algebra\n",
        "import pandas as pd #data processing\n",
        "pd.set_option('display.max_rows', 500)\n",
        "\n",
        "import os\n",
        "import re\n",
        "import nltk\n",
        "from nltk.stem import WordNetLemmatizer\n",
        "from nltk.corpus import stopwords\n",
        "\n",
        "from sklearn.model_selection import train_test_split\n",
        "\n",
        "from sklearn.feature_extraction.text import TfidfTransformer\n",
        "from sklearn.feature_extraction.text import CountVectorizer\n",
        "from sklearn.feature_extraction.text import TfidfVectorizer\n",
        "\n",
        "from sklearn.ensemble import  RandomForestClassifier\n",
        "from xgboost import XGBClassifier\n",
        "\n",
        "from sklearn import metrics\n",
        "from sklearn.metrics import accuracy_score\n",
        "from sklearn.metrics import classification_report\n",
        "\n",
        "from sklearn.naive_bayes import MultinomialNB"
      ]
    },
    {
      "cell_type": "code",
      "source": [
        "nltk.download('punkt')\n",
        "nltk.download('wordnet')\n",
        "nltk.download('stopwords')"
      ],
      "metadata": {
        "id": "-GyPIewc71WS",
        "colab": {
          "base_uri": "https://localhost:8080/"
        },
        "outputId": "ca00bb03-1075-42ff-e7de-53179871eba6"
      },
      "execution_count": null,
      "outputs": [
        {
          "output_type": "stream",
          "name": "stderr",
          "text": [
            "[nltk_data] Downloading package punkt to /root/nltk_data...\n",
            "[nltk_data]   Package punkt is already up-to-date!\n",
            "[nltk_data] Downloading package wordnet to /root/nltk_data...\n",
            "[nltk_data]   Package wordnet is already up-to-date!\n",
            "[nltk_data] Downloading package stopwords to /root/nltk_data...\n",
            "[nltk_data]   Package stopwords is already up-to-date!\n"
          ]
        },
        {
          "output_type": "execute_result",
          "data": {
            "text/plain": [
              "True"
            ]
          },
          "metadata": {},
          "execution_count": 136
        }
      ]
    },
    {
      "cell_type": "code",
      "source": [
        "stop_words = stopwords.words('english')\n",
        "lemmatizer=WordNetLemmatizer()\n",
        "\n",
        "def clean_text(input_df):\n",
        "\n",
        "  for index,row in input_df.iterrows():\n",
        "      filter_sentence = ''\n",
        "\n",
        "      sentence = row['text']\n",
        "      sentence = re.sub(r'[^\\w\\s]','',sentence) #cleaning\n",
        "\n",
        "      words = nltk.word_tokenize(sentence) #tokenization\n",
        "      words = [w for w in words if not w in stop_words]  #stopwords removal\n",
        "\n",
        "      for word in words:\n",
        "          filter_sentence = filter_sentence + ' ' + str(lemmatizer.lemmatize(word)).lower()\n",
        "\n",
        "      input_df.loc[index,'text'] = filter_sentence\n",
        "\n",
        "  return input_df"
      ],
      "metadata": {
        "id": "PtVj_vWa73zT"
      },
      "execution_count": null,
      "outputs": []
    },
    {
      "cell_type": "code",
      "source": [
        "df = pd.read_csv(\"final_dataset.csv\")"
      ],
      "metadata": {
        "id": "uOuFrY1578JM"
      },
      "execution_count": null,
      "outputs": []
    },
    {
      "cell_type": "code",
      "source": [
        "category_map = {\n",
        "    0: 'Entertainment',\n",
        "    1: 'Politics and News',\n",
        "    2: 'Culture and Society',\n",
        "    3: 'Science and Tech'\n",
        "}"
      ],
      "metadata": {
        "id": "sMrMJaaU-s1f"
      },
      "execution_count": null,
      "outputs": []
    },
    {
      "cell_type": "code",
      "source": [
        "label_map = {\n",
        "    0: 'fake',\n",
        "    1: 'real',\n",
        "}"
      ],
      "metadata": {
        "id": "Kq6XYP_y_46_"
      },
      "execution_count": null,
      "outputs": []
    },
    {
      "cell_type": "code",
      "source": [
        "df['category'].value_counts()"
      ],
      "metadata": {
        "id": "ZQUqm-un8F1f",
        "colab": {
          "base_uri": "https://localhost:8080/"
        },
        "outputId": "fcdf1957-6c40-4254-baa4-2eca6e8caacb"
      },
      "execution_count": null,
      "outputs": [
        {
          "output_type": "execute_result",
          "data": {
            "text/plain": [
              "category\n",
              "0    10819\n",
              "1     9557\n",
              "3     9006\n",
              "2     8066\n",
              "Name: count, dtype: int64"
            ]
          },
          "metadata": {},
          "execution_count": 141
        }
      ]
    },
    {
      "cell_type": "code",
      "source": [
        "# Calculate value counts\n",
        "value_counts = df['category'].map(category_map).value_counts()\n",
        "\n",
        "# Define colors for each category\n",
        "colors = ['grey', 'grey', 'grey', 'grey']\n",
        "\n",
        "# Plot bar graph\n",
        "plt.figure(figsize=(8, 6))\n",
        "plt.bar(value_counts.index, value_counts.values, color=colors)\n",
        "plt.xlabel('Category')\n",
        "plt.ylabel('Count')\n",
        "plt.title('Value Counts of Categories')\n",
        "plt.xticks(rotation=0)  # Rotate x-axis labels for better readability\n",
        "plt.show()"
      ],
      "metadata": {
        "id": "3HmiQw-89YY1",
        "colab": {
          "base_uri": "https://localhost:8080/",
          "height": 564
        },
        "outputId": "ef9a45b5-8162-414a-fbc9-f0e08ecc154a"
      },
      "execution_count": null,
      "outputs": [
        {
          "output_type": "display_data",
          "data": {
            "text/plain": [
              "<Figure size 800x600 with 1 Axes>"
            ],
            "image/png": "[encoded data removed]"
          },
          "metadata": {}
        }
      ]
    },
    {
      "cell_type": "code",
      "source": [
        "df['label'].value_counts()"
      ],
      "metadata": {
        "id": "I1Mc4WMa8Jsq",
        "colab": {
          "base_uri": "https://localhost:8080/"
        },
        "outputId": "20f06060-fdef-4798-f56f-93c6f70f7886"
      },
      "execution_count": null,
      "outputs": [
        {
          "output_type": "execute_result",
          "data": {
            "text/plain": [
              "label\n",
              "0    19076\n",
              "1    18372\n",
              "Name: count, dtype: int64"
            ]
          },
          "metadata": {},
          "execution_count": 143
        }
      ]
    },
    {
      "cell_type": "code",
      "source": [
        "# Calculate value counts\n",
        "value_counts = df['label'].map(label_map).value_counts()\n",
        "\n",
        "# Define colors for each category\n",
        "colors = ['grey', 'grey']\n",
        "\n",
        "# Plot bar graph\n",
        "plt.figure(figsize=(8, 6))\n",
        "plt.bar(value_counts.index, value_counts.values, color=colors)\n",
        "plt.xlabel('Label')\n",
        "plt.ylabel('Count')\n",
        "plt.title('Value Counts of Labels')\n",
        "plt.xticks(rotation=0)  # Rotate x-axis labels for better readability\n",
        "plt.show()"
      ],
      "metadata": {
        "id": "Gng1sqLL_XRW",
        "colab": {
          "base_uri": "https://localhost:8080/",
          "height": 564
        },
        "outputId": "4dfb56c8-f926-40eb-bf45-18e1b57a10f7"
      },
      "execution_count": null,
      "outputs": [
        {
          "output_type": "display_data",
          "data": {
            "text/plain": [
              "<Figure size 800x600 with 1 Axes>"
            ],
            "image/png": "[encoded data removed]"
          },
          "metadata": {}
        }
      ]
    },
    {
      "cell_type": "code",
      "source": [
        "df_mapped = df.copy()\n",
        "df_mapped['category'] = df_mapped['category'].map(category_map)\n",
        "df_mapped['label'] = df_mapped['label'].map(label_map)\n",
        "\n",
        "# Group by Category and get value counts of labels\n",
        "category_counts = df_mapped.groupby('category')['label'].value_counts().unstack().fillna(0)\n",
        "\n",
        "# Display the result\n",
        "print(category_counts)\n",
        "\n",
        "category_counts.plot(kind='bar', stacked=True, figsize=(10, 6))\n",
        "plt.xlabel('Category')\n",
        "plt.ylabel('Count')\n",
        "plt.title('Counts of Fake and Real Articles by Category')\n",
        "plt.xticks(rotation=45)\n",
        "plt.legend(title='Label', loc='upper right')\n",
        "plt.show()"
      ],
      "metadata": {
        "id": "KC4D3Vg9C3G7",
        "colab": {
          "base_uri": "https://localhost:8080/",
          "height": 761
        },
        "outputId": "92100cdb-2414-4db0-bc94-1b005fa3dd1e"
      },
      "execution_count": null,
      "outputs": [
        {
          "output_type": "stream",
          "name": "stdout",
          "text": [
            "label                fake  real\n",
            "category                       \n",
            "Culture and Society  4188  3878\n",
            "Entertainment        5491  5328\n",
            "Politics and News    5105  4452\n",
            "Science and Tech     4292  4714\n"
          ]
        },
        {
          "output_type": "display_data",
          "data": {
            "text/plain": [
              "<Figure size 1000x600 with 1 Axes>"
            ],
            "image/png": "[encoded data removed]"
          },
          "metadata": {}
        }
      ]
    },
    {
      "cell_type": "code",
      "source": [
        "df = clean_text(df)"
      ],
      "metadata": {
        "id": "94fZDez68A6b"
      },
      "execution_count": null,
      "outputs": []
    },
    {
      "cell_type": "code",
      "source": [
        "X = df['text']\n",
        "Y = df['label'].astype('category')"
      ],
      "metadata": {
        "id": "95P3QS2p8UHZ"
      },
      "execution_count": null,
      "outputs": []
    },
    {
      "cell_type": "code",
      "source": [
        "X_train, X_test, y_train, y_test = train_test_split(X, Y, test_size=0.2, shuffle=True,stratify=Y)"
      ],
      "metadata": {
        "id": "PqMFBq3z8adW"
      },
      "execution_count": null,
      "outputs": []
    },
    {
      "cell_type": "code",
      "source": [
        "count_vectorizer = CountVectorizer()\n",
        "count_vectorizer.fit_transform(X_train)\n",
        "freq_term_matrix = count_vectorizer.transform(X_train)\n",
        "tfidf = TfidfTransformer(norm=\"l2\")\n",
        "tf_idf_matrix=tfidf.fit_transform(freq_term_matrix)\n",
        "\n",
        "freq_term_matrix_test = count_vectorizer.transform(X_test)\n",
        "tf_idf_matrix_test = tfidf.transform(freq_term_matrix_test)"
      ],
      "metadata": {
        "id": "yifImL-L8c-y"
      },
      "execution_count": null,
      "outputs": []
    },
    {
      "cell_type": "code",
      "source": [
        "# # logistic regression\n",
        "\n",
        "from sklearn.linear_model import LogisticRegression\n",
        "\n",
        "model = LogisticRegression()\n",
        "\n",
        "model.fit(tf_idf_matrix,y_train)\n",
        "\n",
        "y_pred = model.predict(tf_idf_matrix)\n",
        "lracc_train = accuracy_score(y_train, y_pred)\n",
        "\n",
        "y_pred=model.predict(tf_idf_matrix_test)\n",
        "\n",
        "lracc_test = accuracy_score(y_test, y_pred)\n",
        "\n",
        "lf1_score = metrics.f1_score(y_test, y_pred)\n",
        "\n",
        "print(\"model = logistic regression\")\n",
        "print(\"train_accuracy = \", lracc_train)\n",
        "print(\"test_accuracy = \", lracc_test)\n",
        "print(\"F1 score = \", lf1_score)"
      ],
      "metadata": {
        "id": "VHIrqoQP8qXF"
      },
      "execution_count": null,
      "outputs": []
    },
    {
      "cell_type": "code",
      "source": [
        "# # naive bayes\n",
        "\n",
        "naive_bayes = MultinomialNB()\n",
        "\n",
        "naive_bayes.fit(tf_idf_matrix,y_train)\n",
        "\n",
        "y_pred = model.predict(tf_idf_matrix)\n",
        "acc_train = accuracy_score(y_train, y_pred)\n",
        "\n",
        "y_pred=naive_bayes.predict(tf_idf_matrix_test)\n",
        "acc_test = accuracy_score(y_test, y_pred)\n",
        "\n",
        "nbf1_score = metrics.f1_score(y_test, y_pred)\n",
        "\n",
        "print(\"model = Naive Bayes\")\n",
        "print(\"acc_train = \", acc_train)\n",
        "print(\"acc_test = \", acc_test)\n",
        "print(\"F1 score = \", nbf1_score)"
      ],
      "metadata": {
        "id": "LEIQ1hJ68utd"
      },
      "execution_count": null,
      "outputs": []
    },
    {
      "cell_type": "code",
      "source": [
        "# Xgboost\n",
        "\n",
        "model = XGBClassifier(scale_pos_weight=1,learning_rate=0.1,colsample_bytree = 0.6,subsample = 0.8,objective='binary:logistic',n_estimators=2000, reg_alpha = 0.5,max_depth=6, gamma=10)\n",
        "model.fit(tf_idf_matrix,y_train)\n",
        "\n",
        "y_pred = model.predict(tf_idf_matrix)\n",
        "xgbacc_train = accuracy_score(y_train, y_pred)\n",
        "\n",
        "y_pred=model.predict(tf_idf_matrix_test)\n",
        "xgbacc_test = accuracy_score(y_test, y_pred)\n",
        "\n",
        "xgbf1_score = metrics.f1_score(y_test, y_pred, average=\"weighted\")\n",
        "\n",
        "print(\"model = XgBoost\")\n",
        "print(\"xgbacc_train= \", xgbacc_train)\n",
        "print(\"xgbacc_test = \", xgbacc_test)\n",
        "print(\"f1 score = \", xgbf1_score)"
      ],
      "metadata": {
        "id": "4grU18k_8fOK"
      },
      "execution_count": null,
      "outputs": []
    },
    {
      "cell_type": "code",
      "source": [
        "from sklearn.model_selection import GridSearchCV\n",
        "from sklearn.neural_network import MLPClassifier\n",
        "\n",
        "param_grid = {\n",
        "    'hidden_layer_sizes': [(9, 2), (10, 5), (5, 5)],\n",
        "    'alpha': [1e-5, 1e-4, 1e-3],\n",
        "    'activation': ['logistic', 'relu', 'tanh'],\n",
        "}\n",
        "mlp = MLPClassifier(solver='lbfgs', random_state=1)\n",
        "\n",
        "grid_search = GridSearchCV(estimator=mlp, param_grid=param_grid, cv=3)\n",
        "grid_search.fit(tf_idf_matrix, y_train)\n",
        "\n",
        "best_clf = grid_search.best_estimator_\n",
        "best_clf.fit(tf_idf_matrix, y_train)\n",
        "y_train_pred = best_clf.predict(tf_idf_matrix)\n",
        "y_test_pred = best_clf.predict(tf_idf_matrix_test)\n",
        "\n",
        "# Calculate accuracies\n",
        "train_acc = accuracy_score(y_train, y_train_pred)\n",
        "test_acc = accuracy_score(y_test, y_test_pred)\n",
        "\n",
        "# Print accuracies\n",
        "print(\"Training accuracy:\", train_acc)\n",
        "print(\"Test accuracy:\", test_acc)\n",
        "\n",
        "# Print best parameters found by grid search\n",
        "print(\"Best parameters found by grid search:\")\n",
        "print(grid_search.best_params_)\n",
        "\n",
        "#clf.fit(tf_idf_matrix, y_train)\n",
        "#y_pred = clf.predict(tf_idf_matrix)\n",
        "#t_acc = accuracy_score(y_train,y_pred)\n",
        "#t_acc\n"
      ],
      "metadata": {
        "id": "CUNCXH-s27MD"
      },
      "execution_count": null,
      "outputs": []
    },
    {
      "cell_type": "code",
      "source": [
        "#y_test_pred = clf.predict(tf_idf_matrix_test)\n",
        "#test_acc = accuracy_score(y_test,y_test_pred)\n",
        "#test_acc"
      ],
      "metadata": {
        "id": "2Cesxdj46dd9"
      },
      "execution_count": null,
      "outputs": []
    },
    {
      "cell_type": "code",
      "source": [
        "# Random forest\n",
        "\n",
        "rfclassifier = RandomForestClassifier(n_estimators=500 )\n",
        "rfclassifier.fit(tf_idf_matrix, y_train)\n",
        "\n",
        "y_pred = rfclassifier.predict(tf_idf_matrix)\n",
        "rfacc_train = accuracy_score(y_train, y_pred)\n",
        "\n",
        "\n",
        "y_pred = rfclassifier.predict(tf_idf_matrix_test)\n",
        "rfacc_test = accuracy_score(y_test, y_pred)\n",
        "\n",
        "rff1_score = metrics.f1_score(y_test, y_pred, average=\"weighted\")\n",
        "\n",
        "print(\"model = Random Forest\")\n",
        "print(\"rfacc_train= \", rfacc_train)\n",
        "print(\"rfacc_test= \", rfacc_test)\n",
        "print(\"f1 score = \", rff1_score)"
      ],
      "metadata": {
        "id": "GVcSY_7O8mIw"
      },
      "execution_count": null,
      "outputs": []
    },
    {
      "cell_type": "code",
      "source": [
        "# Ada Boost\n",
        "\n",
        "from sklearn.ensemble import AdaBoostClassifier\n",
        "\n",
        "clf = AdaBoostClassifier(n_estimators=1000, algorithm=\"SAMME\", random_state=0)\n",
        "\n",
        "clf.fit(tf_idf_matrix,y_train)\n",
        "\n",
        "y_pred=clf.predict(tf_idf_matrix)\n",
        "adaboostAcc_train = accuracy_score(y_train,y_pred)\n",
        "\n",
        "y_pred=clf.predict(tf_idf_matrix_test)\n",
        "# output = model.predict(tf_idf_matrix_test)\n",
        "\n",
        "adaboostAcc_test = accuracy_score(y_test, y_pred)\n",
        "adaF1 = metrics.f1_score(y_test, y_pred, average=\"weighted\")\n",
        "\n",
        "print(\"model = AdaBoost\")\n",
        "print(\"adaboostAcc_train = \", adaboostAcc_train)\n",
        "print(\"adaboostAcc_test = \", adaboostAcc_test)\n",
        "print(\"f1 score = \", adaF1)"
      ],
      "metadata": {
        "id": "0UZPG-x18x4D"
      },
      "execution_count": null,
      "outputs": []
    },
    {
      "cell_type": "code",
      "source": [],
      "metadata": {
        "id": "ecuXB-E185-1"
      },
      "execution_count": null,
      "outputs": []
    },
    {
      "cell_type": "markdown",
      "source": [
        "#**Phase 2**"
      ],
      "metadata": {
        "id": "aSQhGgv98-uP"
      }
    },
    {
      "cell_type": "code",
      "source": [
        "import re\n",
        "import string\n",
        "import nltk\n",
        "import numpy as np\n",
        "import pandas as pd\n",
        "import seaborn as sns\n",
        "from wordcloud import WordCloud\n",
        "from collections import Counter\n",
        "import matplotlib.pyplot as plt\n",
        "from sklearn import  tree\n",
        "from sklearn.ensemble import  RandomForestClassifier\n",
        "from xgboost import XGBClassifier\n",
        "\n",
        "from sklearn.model_selection import train_test_split\n",
        "from sklearn.feature_extraction.text import  CountVectorizer\n",
        "from sklearn.metrics import confusion_matrix, classification_report, accuracy_score\n",
        "import matplotlib.pyplot as plotter"
      ],
      "metadata": {
        "id": "gTXAebgK9G3V"
      },
      "execution_count": null,
      "outputs": []
    },
    {
      "cell_type": "code",
      "source": [
        "nltk.download('punkt')\n",
        "nltk.download('stopwords')"
      ],
      "metadata": {
        "id": "1TV-6gP19nUO",
        "colab": {
          "base_uri": "https://localhost:8080/"
        },
        "outputId": "06662d0a-53d0-4467-a815-63e06a46f223"
      },
      "execution_count": null,
      "outputs": [
        {
          "output_type": "stream",
          "name": "stderr",
          "text": [
            "[nltk_data] Downloading package punkt to /root/nltk_data...\n",
            "[nltk_data]   Package punkt is already up-to-date!\n",
            "[nltk_data] Downloading package stopwords to /root/nltk_data...\n",
            "[nltk_data]   Package stopwords is already up-to-date!\n"
          ]
        },
        {
          "output_type": "execute_result",
          "data": {
            "text/plain": [
              "True"
            ]
          },
          "metadata": {},
          "execution_count": 158
        }
      ]
    },
    {
      "cell_type": "code",
      "source": [
        "df['text_length'] = df['text'].apply(len)\n",
        "df['words_counts'] = df['text'].str.split().map(lambda x: len(x))\n",
        "df['punctuation_count'] = df['text'].map(lambda x: len([c for c in str(x) if c in string.punctuation]))"
      ],
      "metadata": {
        "id": "8ARfYkye9vDS"
      },
      "execution_count": null,
      "outputs": []
    },
    {
      "cell_type": "code",
      "source": [
        "def clean_text(text):\n",
        "    text = text.lower()                                  # lower-case all characters\n",
        "    text =  re.sub(r'@\\S+', '',text)                     # remove twitter handles\n",
        "    text =  re.sub(r'http\\S+', '',text)                  # remove urls\n",
        "    text =  re.sub(r'pic.\\S+', '',text)\n",
        "    text =  re.sub(r\"[^a-zA-Z+']\", ' ',text)             # only keeps characters\n",
        "    text = re.sub(r'\\s+[a-zA-Z]\\s+', ' ', text+' ')      # keep words with length>1 only\n",
        "    text = text.lower()\n",
        "    text = \"\".join([i for i in text if i not in string.punctuation])\n",
        "    words = nltk.tokenize.word_tokenize(text)\n",
        "    stopwords = nltk.corpus.stopwords.words('english')   # remove stopwords\n",
        "    text = \" \".join([i for i in words if i not in stopwords and len(i)>2])\n",
        "    text= re.sub(\"\\s[\\s]+\", \" \",text).strip()            # remove repeated/leading/trailing spaces\n",
        "    return text"
      ],
      "metadata": {
        "id": "47OuAR7D-Hac"
      },
      "execution_count": null,
      "outputs": []
    },
    {
      "cell_type": "code",
      "source": [
        "# df['text'] = df['text'].apply(clean_text)"
      ],
      "metadata": {
        "id": "BPYv6ioM-IDF"
      },
      "execution_count": null,
      "outputs": []
    },
    {
      "cell_type": "code",
      "source": [
        "X = df['text']\n",
        "Y = df['category'].astype('category')\n",
        "\n",
        "X_train, X_test, y_train, y_test = train_test_split(X,Y,test_size=0.10,random_state=42,stratify=Y, shuffle=True)"
      ],
      "metadata": {
        "id": "mPpYucLz-eJL"
      },
      "execution_count": null,
      "outputs": []
    },
    {
      "cell_type": "code",
      "source": [
        "# Vectorisation\n",
        "vectorizer = TfidfVectorizer()\n",
        "train_vectorizer = vectorizer.fit_transform(X_train)\n",
        "test_vectorizer = vectorizer.transform(X_test)"
      ],
      "metadata": {
        "id": "gVAiy21E-X6N"
      },
      "execution_count": null,
      "outputs": []
    },
    {
      "cell_type": "code",
      "source": [
        "train_vectorizer.shape"
      ],
      "metadata": {
        "colab": {
          "base_uri": "https://localhost:8080/"
        },
        "id": "Vk4uOlPnxCIc",
        "outputId": "7e274ff1-55bf-40ef-e52a-85c224afdd0e"
      },
      "execution_count": null,
      "outputs": [
        {
          "output_type": "execute_result",
          "data": {
            "text/plain": [
              "(33703, 136335)"
            ]
          },
          "metadata": {},
          "execution_count": 164
        }
      ]
    },
    {
      "cell_type": "code",
      "source": [
        "# random forest\n",
        "\n",
        "rfclassifier = RandomForestClassifier(n_estimators=500)\n",
        "rfclasssifier_train = rfclassifier.fit(train_vectorizer,y_train)\n",
        "y_pred = rfclassifier.predict(test_vectorizer)\n",
        "\n",
        "Acc_train = rfclassifier.score(train_vectorizer, y_train)\n",
        "acc_test = rfclassifier.score(test_vectorizer, y_test)\n",
        "\n",
        "my_Category =['entertainment','politics and news','culture and society','science and tech']\n",
        "\n",
        "print('Train Accuracy : {:.2f}%'.format(Acc_train*100))\n",
        "print('Test Accuracy  : {:.2f}%'.format(acc_test*100))\n",
        "print(classification_report(y_test, y_pred,target_names=my_Category))\n",
        "print('******** Classification Report ***************')"
      ],
      "metadata": {
        "id": "vdu1RaDY-6uI"
      },
      "execution_count": null,
      "outputs": []
    },
    {
      "cell_type": "code",
      "source": [
        "# !pip install transformers\n",
        "# !pip install datasets"
      ],
      "metadata": {
        "id": "ShvOVIC19eLT"
      },
      "execution_count": null,
      "outputs": []
    },
    {
      "cell_type": "code",
      "source": [
        "# Bert\n",
        "import torch\n",
        "from tqdm.notebook import tqdm\n",
        "\n",
        "from transformers import BertTokenizer\n",
        "from torch.utils.data import TensorDataset\n",
        "\n",
        "from transformers import BertForSequenceClassification\n",
        "\n",
        "tokenizer = BertTokenizer.from_pretrained('bert-base-uncased',\n",
        "                                          do_lower_case=True)\n",
        "\n",
        "encoded_data_train = tokenizer.batch_encode_plus(\n",
        "    X_train.values,\n",
        "    add_special_tokens=True,\n",
        "    return_attention_mask=True,\n",
        "    pad_to_max_length=True,\n",
        "    max_length=256,\n",
        "    return_tensors='pt'\n",
        ")\n",
        "\n",
        "encoded_data_val = tokenizer.batch_encode_plus(\n",
        "    X_test.values,\n",
        "    add_special_tokens=True,\n",
        "    return_attention_mask=True,\n",
        "    pad_to_max_length=True,\n",
        "    max_length=256,\n",
        "    return_tensors='pt'\n",
        ")\n",
        "\n",
        "\n",
        "input_ids_train = encoded_data_train['input_ids']\n",
        "attention_masks_train = encoded_data_train['attention_mask']\n",
        "labels_train = torch.tensor(y_train.values)\n",
        "\n",
        "input_ids_val = encoded_data_val['input_ids']\n",
        "attention_masks_val = encoded_data_val['attention_mask']\n",
        "labels_val = torch.tensor(y_test.values)\n",
        "\n",
        "dataset_train = TensorDataset(input_ids_train, attention_masks_train, labels_train)\n",
        "dataset_val = TensorDataset(input_ids_val, attention_masks_val, labels_val)"
      ],
      "metadata": {
        "id": "CHwlFcZH_57z",
        "colab": {
          "base_uri": "https://localhost:8080/"
        },
        "outputId": "579f329c-e9f7-49e2-a192-fa02f59a0a73"
      },
      "execution_count": null,
      "outputs": [
        {
          "output_type": "stream",
          "name": "stderr",
          "text": [
            "Truncation was not explicitly activated but `max_length` is provided a specific value, please use `truncation=True` to explicitly truncate examples to max length. Defaulting to 'longest_first' truncation strategy. If you encode pairs of sequences (GLUE-style) with the tokenizer you can select this strategy more precisely by providing a specific strategy to `truncation`.\n",
            "/usr/local/lib/python3.10/dist-packages/transformers/tokenization_utils_base.py:2674: FutureWarning: The `pad_to_max_length` argument is deprecated and will be removed in a future version, use `padding=True` or `padding='longest'` to pad to the longest sequence in the batch, or use `padding='max_length'` to pad to a max length. In this case, you can give a specific length with `max_length` (e.g. `max_length=45`) or leave max_length to None to pad to the maximal input size of the model (e.g. 512 for Bert).\n",
            "  warnings.warn(\n"
          ]
        }
      ]
    },
    {
      "cell_type": "code",
      "source": [
        "device = torch.device(\"cuda\" if torch.cuda.is_available() else \"cpu\")"
      ],
      "metadata": {
        "id": "LQoA9r_u_8S1"
      },
      "execution_count": null,
      "outputs": []
    },
    {
      "cell_type": "code",
      "source": [
        "model = BertForSequenceClassification.from_pretrained(\"bert-base-uncased\",\n",
        "                                                      num_labels=4,\n",
        "                                                      output_attentions=False,\n",
        "                                                      output_hidden_states=False)"
      ],
      "metadata": {
        "id": "OeI6uVtR_-WX",
        "colab": {
          "base_uri": "https://localhost:8080/"
        },
        "outputId": "f0542d45-4ad1-43f2-d9e1-cc132252b233"
      },
      "execution_count": null,
      "outputs": [
        {
          "output_type": "stream",
          "name": "stderr",
          "text": [
            "Some weights of BertForSequenceClassification were not initialized from the model checkpoint at bert-base-uncased and are newly initialized: ['classifier.bias', 'classifier.weight']\n",
            "You should probably TRAIN this model on a down-stream task to be able to use it for predictions and inference.\n"
          ]
        }
      ]
    },
    {
      "cell_type": "code",
      "source": [
        "from torch.utils.data import DataLoader, RandomSampler, SequentialSampler\n",
        "\n",
        "batch_size = 3\n",
        "\n",
        "dataloader_train = DataLoader(dataset_train,\n",
        "                              sampler=RandomSampler(dataset_train),\n",
        "                              batch_size=batch_size)\n",
        "\n",
        "dataloader_validation = DataLoader(dataset_val,\n",
        "                                   sampler=SequentialSampler(dataset_val),\n",
        "                                   batch_size=batch_size)"
      ],
      "metadata": {
        "id": "V9lIcxxbACfw"
      },
      "execution_count": null,
      "outputs": []
    },
    {
      "cell_type": "code",
      "source": [
        "from transformers import AdamW, get_linear_schedule_with_warmup\n",
        "\n",
        "optimizer = AdamW(model.parameters(),\n",
        "                  lr=1e-5,\n",
        "                  eps=1e-8)\n",
        "\n",
        "epochs = 1\n",
        "\n",
        "scheduler = get_linear_schedule_with_warmup(optimizer,\n",
        "                                            num_warmup_steps=0,\n",
        "                                            num_training_steps=len(dataloader_train)*epochs)"
      ],
      "metadata": {
        "id": "n0eLmbjEADRu",
        "colab": {
          "base_uri": "https://localhost:8080/"
        },
        "outputId": "3b222b3b-cef9-4a10-a4e7-f08c582390fd"
      },
      "execution_count": null,
      "outputs": [
        {
          "output_type": "stream",
          "name": "stderr",
          "text": [
            "/usr/local/lib/python3.10/dist-packages/transformers/optimization.py:521: FutureWarning: This implementation of AdamW is deprecated and will be removed in a future version. Use the PyTorch implementation torch.optim.AdamW instead, or set `no_deprecation_warning=True` to disable this warning\n",
            "  warnings.warn(\n"
          ]
        }
      ]
    },
    {
      "cell_type": "code",
      "source": [
        "from sklearn.metrics import f1_score\n",
        "from sklearn.metrics import multilabel_confusion_matrix\n",
        "\n",
        "label_dict = {'entertainment':0, 'politics and news': 1, 'culture and society':2, 'science and tech':3}\n",
        "label_dict_inverse = {v: k for k, v in label_dict.items()}\n",
        "\n",
        "def f1_score_func(preds, labels):\n",
        "    preds_flat = np.argmax(preds, axis=1).flatten()\n",
        "    labels_flat = labels.flatten()\n",
        "\n",
        "    confusion_matrices = multilabel_confusion_matrix(labels_flat, preds_flat, labels=[0,1,2,3])\n",
        "    for i, confusion_matrix in enumerate(confusion_matrices):\n",
        "        disp = ConfusionMatrixDisplay(confusion_matrix)\n",
        "        disp.plot(include_values=True, cmap=\"viridis\", ax=None, xticks_rotation=\"vertical\")\n",
        "        plt.title(f\"confusion matrix for {label_dict_inverse[i]}\")\n",
        "        plt.show()\n",
        "        # plt.clf()\n",
        "\n",
        "    return f1_score(labels_flat, preds_flat, average='weighted')\n",
        "\n",
        "def accuracy_per_class(preds, labels):\n",
        "\n",
        "\n",
        "    preds_flat = np.argmax(preds, axis=1).flatten()\n",
        "    labels_flat = labels.flatten()\n",
        "\n",
        "    local_acc = 0\n",
        "    for label in np.unique(labels_flat):\n",
        "        print(\"label = \", label)\n",
        "        y_preds = preds_flat[labels_flat==label]\n",
        "        y_true = labels_flat[labels_flat==label]\n",
        "\n",
        "        tmp_acc = len(y_preds[y_preds==label])/len(y_true)\n",
        "\n",
        "        # disp = ConfusionMatrixDisplay.from_predictions(y_true, y_preds)\n",
        "        # disp.plot()\n",
        "        # plt.show()\n",
        "        # plt.clf()\n",
        "\n",
        "        # print(f'\\nClass: {label_dict_inverse[label]}')\n",
        "        # print('Accuracy:' , tmp_acc)\n",
        "        local_acc+=tmp_acc\n",
        "    return float(local_acc/4)"
      ],
      "metadata": {
        "id": "EXdtWlU1ydiT"
      },
      "execution_count": null,
      "outputs": []
    },
    {
      "cell_type": "code",
      "source": [
        "import random\n",
        "\n",
        "seed_val = 17\n",
        "random.seed(seed_val)\n",
        "np.random.seed(seed_val)\n",
        "torch.manual_seed(seed_val)\n",
        "torch.cuda.manual_seed_all(seed_val)\n",
        "\n",
        "model.to('cuda')\n",
        "\n",
        "train_loss_plot_val = []\n",
        "val_loss_plot_val = []\n",
        "\n",
        "def evaluate(dataloader_val):\n",
        "\n",
        "    model.eval()\n",
        "\n",
        "    loss_val_total = 0\n",
        "    predictions, true_vals = [], []\n",
        "\n",
        "    for batch in dataloader_val:\n",
        "\n",
        "        batch = tuple(b.to(device) for b in batch)\n",
        "\n",
        "        inputs = {'input_ids':      batch[0],\n",
        "                  'attention_mask': batch[1],\n",
        "                  'labels':         batch[2],\n",
        "                 }\n",
        "\n",
        "        with torch.no_grad():\n",
        "            outputs = model(**inputs)\n",
        "\n",
        "        loss = outputs[0]\n",
        "        logits = outputs[1]\n",
        "        loss_val_total += loss.item()\n",
        "\n",
        "        logits = logits.detach().cpu().numpy()\n",
        "        label_ids = inputs['labels'].cpu().numpy()\n",
        "        predictions.append(logits)\n",
        "        true_vals.append(label_ids)\n",
        "\n",
        "    loss_val_avg = loss_val_total/len(dataloader_val)\n",
        "\n",
        "    predictions = np.concatenate(predictions, axis=0)\n",
        "    true_vals = np.concatenate(true_vals, axis=0)\n",
        "\n",
        "    return loss_val_avg, predictions, true_vals\n",
        "\n",
        "epochs = 5\n",
        "for epoch in tqdm(range(1, epochs+1)):\n",
        "\n",
        "    model.train()\n",
        "\n",
        "    loss_train_total = 0\n",
        "    correct_predictions = 0\n",
        "    total_predictions = 0\n",
        "\n",
        "    progress_bar = tqdm(dataloader_train, desc='Epoch {:1d}'.format(epoch), leave=False, disable=False)\n",
        "    for batch in progress_bar:\n",
        "\n",
        "        model.zero_grad()\n",
        "\n",
        "        batch = tuple(b.to(device) for b in batch)\n",
        "\n",
        "        inputs = {'input_ids':      batch[0],\n",
        "                  'attention_mask': batch[1],\n",
        "                  'labels':         batch[2],\n",
        "                 }\n",
        "\n",
        "        outputs = model(**inputs)\n",
        "\n",
        "        loss = outputs[0]\n",
        "        loss_train_total += loss.item()\n",
        "\n",
        "        logits = outputs[1]\n",
        "        _, predicted = torch.max(logits, 1)\n",
        "        correct_predictions += torch.sum(predicted == inputs['labels']).item()\n",
        "        total_predictions += len(inputs['labels'])\n",
        "\n",
        "        loss.backward()\n",
        "\n",
        "        torch.nn.utils.clip_grad_norm_(model.parameters(), 1.0)\n",
        "\n",
        "        optimizer.step()\n",
        "        scheduler.step()\n",
        "\n",
        "        progress_bar.set_postfix({'training_loss': '{:.3f}'.format(loss.item()/len(batch))})\n",
        "\n",
        "\n",
        "    torch.save(model.state_dict(), f'finetuned_BERT_epoch_{epoch}.model')\n",
        "\n",
        "    train_accuracy = correct_predictions / total_predictions\n",
        "    # Print training accuracy\n",
        "\n",
        "    tqdm.write(f'\\nEpoch {epoch}')\n",
        "\n",
        "    loss_train_avg = loss_train_total/len(dataloader_train)\n",
        "    train_loss_plot_val.append(loss_train_avg)\n",
        "    tqdm.write(f'Training accuracy: {train_accuracy}')\n",
        "    # tqdm.write(f'Training loss: {loss_train_avg}\\n')\n",
        "\n",
        "    val_loss, predictions, true_vals = evaluate(dataloader_validation)\n",
        "    val_loss_plot_val.append(val_loss)\n",
        "    val_f1 = f1_score_func(predictions, true_vals)\n",
        "\n",
        "    avg_test_acc = accuracy_per_class(predictions, true_vals)\n",
        "\n",
        "    # tqdm.write(f'Validation loss: {val_loss}')\n",
        "    tqdm.write(f'\\nAverage test acc: {avg_test_acc}')\n",
        "    tqdm.write(f'\\nF1 Score (Weighted): {val_f1}')\n",
        "\n",
        "plt.plot(train_loss_plot_val, label='Training Loss')\n",
        "plt.plot(val_loss_plot_val, label='Validation Loss')\n",
        "\n",
        "# Add titles and labels\n",
        "plt.title(\"Loss over Epochs\")\n",
        "plt.xlabel(\"Epoch\")\n",
        "plt.ylabel(\"Loss\")\n",
        "\n",
        "# Add legend\n",
        "plt.legend()\n",
        "\n",
        "# Add ticks for x-axis (epochs)\n",
        "plt.xticks(range(len(train_loss_plot_val)), ['Epoch 1', 'Epoch 2','Epoch 3','Epoch 4','Epoch 5'])"
      ],
      "metadata": {
        "id": "hD87K7LbALsU",
        "colab": {
          "base_uri": "https://localhost:8080/",
          "height": 1000,
          "referenced_widgets": [
            "9d29426e639c4158bca9996c436f653a",
            "0cfc929ec512479a917a5d038ba2babf",
            "307434e440f741ad86b898ef6c688c58",
            "f182d63e6a0f41809e642e5c61f01701",
            "66f9c01789874b6e84e9b591333d4af8",
            "72c884b92f2b4ff9a914be5c9c8b8a75",
            "878a442becda48abb8fd0e8bb125f201",
            "5571a88f88dd431999a490575ea467c5",
            "cb0966cb6aa74f6182f706dbfe8d835c",
            "44c698e8541949749ceec1d17346b90d",
            "88d95ec78a1c483387964b72f3a46b9f",
            "29b2d95c998f486c817e010ed1f0c72f",
            "e16f7691def04a0e899c824a0a94dfce",
            "29adab3179314b8f966b9a0ecf076b6a",
            "b364761f8caa483ca1e7826f765c048b",
            "9383ea02bbd24f33bbe76cf4ec4654aa",
            "f0656066564a439b91caed9af0436b9b",
            "0ebe557fdf53413abc7bb1a69a684752",
            "404cc7538a554b62b1ce4f018cc73828",
            "25a8e96216b74063ba514c3d23eb7291",
            "6dfb5db36387442098029c036a1cf3b0",
            "23bdb1b5cebd4d71a1423f3bada2546d",
            "796a80b248f94146a0dc580cc3aeceec",
            "5ca7f7aad8ed4b1fb86e961168433700",
            "bcf4442efe6b4ebcb0c4abafeb4d8b36",
            "8fd39af2572c4b60846a946d2742b1e3",
            "4d3cee24219e4e58a5c456fe0322e7de",
            "75909c6a49aa4b28b82c92230061476c",
            "a74c8b73d0f1400b877a897e50663ba5",
            "22545b183d84490aa8c34b17b9f9cbe9",
            "8e77c0e5e6de43179cea3bac67cc226e",
            "f7ebbaa4f1b3432593c2c9ae4532c909",
            "54bc64451cd7496ead2058a6a1e495ef"
          ]
        },
        "outputId": "3c8aa7cf-6e85-4adb-dd9a-8232b44c4fc7"
      },
      "execution_count": null,
      "outputs": [
        {
          "output_type": "display_data",
          "data": {
            "text/plain": [
              "  0%|          | 0/5 [00:00<?, ?it/s]"
            ],
            "application/vnd.jupyter.widget-view+json": {
              "version_major": 2,
              "version_minor": 0,
              "model_id": "9d29426e639c4158bca9996c436f653a"
            }
          },
          "metadata": {}
        },
        {
          "output_type": "display_data",
          "data": {
            "text/plain": [
              "Epoch 1:   0%|          | 0/11235 [00:00<?, ?it/s]"
            ],
            "application/vnd.jupyter.widget-view+json": {
              "version_major": 2,
              "version_minor": 0,
              "model_id": "29b2d95c998f486c817e010ed1f0c72f"
            }
          },
          "metadata": {}
        },
        {
          "output_type": "stream",
          "name": "stdout",
          "text": [
            "\n",
            "Epoch 1\n",
            "Training accuracy: 0.8939560276533246\n"
          ]
        },
        {
          "output_type": "display_data",
          "data": {
            "text/plain": [
              "<Figure size 640x480 with 2 Axes>"
            ],
            "image/png": "[encoded data removed]"
          },
          "metadata": {}
        },
        {
          "output_type": "display_data",
          "data": {
            "text/plain": [
              "<Figure size 640x480 with 2 Axes>"
            ],
            "image/png": "[encoded data removed]"
          },
          "metadata": {}
        },
        {
          "output_type": "display_data",
          "data": {
            "text/plain": [
              "<Figure size 640x480 with 2 Axes>"
            ],
            "image/png": "[encoded data removed]"
          },
          "metadata": {}
        },
        {
          "output_type": "display_data",
          "data": {
            "text/plain": [
              "<Figure size 640x480 with 2 Axes>"
            ],
            "image/png": "[encoded data removed]"
          },
          "metadata": {}
        },
        {
          "output_type": "stream",
          "name": "stdout",
          "text": [
            "label =  0\n",
            "label =  1\n",
            "label =  2\n",
            "label =  3\n",
            "\n",
            "Average test acc: 0.9314729828028078\n",
            "\n",
            "F1 Score (Weighted): 0.9323723085955233\n"
          ]
        },
        {
          "output_type": "display_data",
          "data": {
            "text/plain": [
              "Epoch 2:   0%|          | 0/11235 [00:00<?, ?it/s]"
            ],
            "application/vnd.jupyter.widget-view+json": {
              "version_major": 2,
              "version_minor": 0,
              "model_id": "796a80b248f94146a0dc580cc3aeceec"
            }
          },
          "metadata": {}
        }
      ]
    },
    {
      "cell_type": "code",
      "source": [
        "print(train_loss_plot_val)"
      ],
      "metadata": {
        "id": "jkhZTEpIb54o"
      },
      "execution_count": null,
      "outputs": []
    },
    {
      "cell_type": "code",
      "source": [
        "print(val_loss_plot_val)"
      ],
      "metadata": {
        "id": "VDPy9gvmh8X2"
      },
      "execution_count": null,
      "outputs": []
    }
  ]
}